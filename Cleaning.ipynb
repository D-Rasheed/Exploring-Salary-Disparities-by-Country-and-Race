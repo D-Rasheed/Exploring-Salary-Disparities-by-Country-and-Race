{
 "cells": [
  {
   "cell_type": "code",
   "execution_count": 13,
   "id": "7a07eb7a",
   "metadata": {},
   "outputs": [],
   "source": [
    "#General libraries\n",
    "\n",
    "import numpy as np\n",
    "import pandas as pd\n",
    "\n",
    "#Visualization libraries\n",
    "\n",
    "import matplotlib.pyplot as plt\n",
    "import seaborn as sns\n"
   ]
  },
  {
   "cell_type": "code",
   "execution_count": 14,
   "id": "1c1ee88e",
   "metadata": {},
   "outputs": [],
   "source": [
    "#Importing data\n",
    "df = pd.read_csv('D:/Prog_project_summer/assets/Salary_Data_Based_country_and_race.csv')\n"
   ]
  },
  {
   "cell_type": "code",
   "execution_count": 15,
   "id": "4e12219b",
   "metadata": {
    "scrolled": true
   },
   "outputs": [
    {
     "data": {
      "text/html": [
       "<div>\n",
       "<style scoped>\n",
       "    .dataframe tbody tr th:only-of-type {\n",
       "        vertical-align: middle;\n",
       "    }\n",
       "\n",
       "    .dataframe tbody tr th {\n",
       "        vertical-align: top;\n",
       "    }\n",
       "\n",
       "    .dataframe thead th {\n",
       "        text-align: right;\n",
       "    }\n",
       "</style>\n",
       "<table border=\"1\" class=\"dataframe\">\n",
       "  <thead>\n",
       "    <tr style=\"text-align: right;\">\n",
       "      <th></th>\n",
       "      <th>Unnamed: 0</th>\n",
       "      <th>Age</th>\n",
       "      <th>Gender</th>\n",
       "      <th>Education Level</th>\n",
       "      <th>Job Title</th>\n",
       "      <th>Years of Experience</th>\n",
       "      <th>Salary</th>\n",
       "      <th>Country</th>\n",
       "      <th>Race</th>\n",
       "    </tr>\n",
       "  </thead>\n",
       "  <tbody>\n",
       "    <tr>\n",
       "      <th>0</th>\n",
       "      <td>0</td>\n",
       "      <td>32.0</td>\n",
       "      <td>Male</td>\n",
       "      <td>Bachelor's</td>\n",
       "      <td>Software Engineer</td>\n",
       "      <td>5.0</td>\n",
       "      <td>90000.0</td>\n",
       "      <td>UK</td>\n",
       "      <td>White</td>\n",
       "    </tr>\n",
       "    <tr>\n",
       "      <th>1</th>\n",
       "      <td>1</td>\n",
       "      <td>28.0</td>\n",
       "      <td>Female</td>\n",
       "      <td>Master's</td>\n",
       "      <td>Data Analyst</td>\n",
       "      <td>3.0</td>\n",
       "      <td>65000.0</td>\n",
       "      <td>USA</td>\n",
       "      <td>Hispanic</td>\n",
       "    </tr>\n",
       "    <tr>\n",
       "      <th>2</th>\n",
       "      <td>2</td>\n",
       "      <td>45.0</td>\n",
       "      <td>Male</td>\n",
       "      <td>PhD</td>\n",
       "      <td>Senior Manager</td>\n",
       "      <td>15.0</td>\n",
       "      <td>150000.0</td>\n",
       "      <td>Canada</td>\n",
       "      <td>White</td>\n",
       "    </tr>\n",
       "    <tr>\n",
       "      <th>3</th>\n",
       "      <td>3</td>\n",
       "      <td>36.0</td>\n",
       "      <td>Female</td>\n",
       "      <td>Bachelor's</td>\n",
       "      <td>Sales Associate</td>\n",
       "      <td>7.0</td>\n",
       "      <td>60000.0</td>\n",
       "      <td>USA</td>\n",
       "      <td>Hispanic</td>\n",
       "    </tr>\n",
       "    <tr>\n",
       "      <th>4</th>\n",
       "      <td>4</td>\n",
       "      <td>52.0</td>\n",
       "      <td>Male</td>\n",
       "      <td>Master's</td>\n",
       "      <td>Director</td>\n",
       "      <td>20.0</td>\n",
       "      <td>200000.0</td>\n",
       "      <td>USA</td>\n",
       "      <td>Asian</td>\n",
       "    </tr>\n",
       "  </tbody>\n",
       "</table>\n",
       "</div>"
      ],
      "text/plain": [
       "   Unnamed: 0   Age  Gender Education Level          Job Title  \\\n",
       "0           0  32.0    Male      Bachelor's  Software Engineer   \n",
       "1           1  28.0  Female        Master's       Data Analyst   \n",
       "2           2  45.0    Male             PhD     Senior Manager   \n",
       "3           3  36.0  Female      Bachelor's    Sales Associate   \n",
       "4           4  52.0    Male        Master's           Director   \n",
       "\n",
       "   Years of Experience    Salary Country      Race  \n",
       "0                  5.0   90000.0      UK     White  \n",
       "1                  3.0   65000.0     USA  Hispanic  \n",
       "2                 15.0  150000.0  Canada     White  \n",
       "3                  7.0   60000.0     USA  Hispanic  \n",
       "4                 20.0  200000.0     USA     Asian  "
      ]
     },
     "execution_count": 15,
     "metadata": {},
     "output_type": "execute_result"
    }
   ],
   "source": [
    "#Reviewing the first five data\n",
    "df.head()"
   ]
  },
  {
   "cell_type": "code",
   "execution_count": 16,
   "id": "a3e43d3d",
   "metadata": {},
   "outputs": [
    {
     "data": {
      "text/html": [
       "<div>\n",
       "<style scoped>\n",
       "    .dataframe tbody tr th:only-of-type {\n",
       "        vertical-align: middle;\n",
       "    }\n",
       "\n",
       "    .dataframe tbody tr th {\n",
       "        vertical-align: top;\n",
       "    }\n",
       "\n",
       "    .dataframe thead th {\n",
       "        text-align: right;\n",
       "    }\n",
       "</style>\n",
       "<table border=\"1\" class=\"dataframe\">\n",
       "  <thead>\n",
       "    <tr style=\"text-align: right;\">\n",
       "      <th></th>\n",
       "      <th>count</th>\n",
       "      <th>mean</th>\n",
       "      <th>std</th>\n",
       "      <th>min</th>\n",
       "      <th>25%</th>\n",
       "      <th>50%</th>\n",
       "      <th>75%</th>\n",
       "      <th>max</th>\n",
       "    </tr>\n",
       "  </thead>\n",
       "  <tbody>\n",
       "    <tr>\n",
       "      <th>Unnamed: 0</th>\n",
       "      <td>6704.0</td>\n",
       "      <td>3351.500000</td>\n",
       "      <td>1935.422435</td>\n",
       "      <td>0.0</td>\n",
       "      <td>1675.75</td>\n",
       "      <td>3351.5</td>\n",
       "      <td>5027.25</td>\n",
       "      <td>6703.0</td>\n",
       "    </tr>\n",
       "    <tr>\n",
       "      <th>Age</th>\n",
       "      <td>6702.0</td>\n",
       "      <td>33.620859</td>\n",
       "      <td>7.614633</td>\n",
       "      <td>21.0</td>\n",
       "      <td>28.00</td>\n",
       "      <td>32.0</td>\n",
       "      <td>38.00</td>\n",
       "      <td>62.0</td>\n",
       "    </tr>\n",
       "    <tr>\n",
       "      <th>Years of Experience</th>\n",
       "      <td>6701.0</td>\n",
       "      <td>8.094687</td>\n",
       "      <td>6.059003</td>\n",
       "      <td>0.0</td>\n",
       "      <td>3.00</td>\n",
       "      <td>7.0</td>\n",
       "      <td>12.00</td>\n",
       "      <td>34.0</td>\n",
       "    </tr>\n",
       "    <tr>\n",
       "      <th>Salary</th>\n",
       "      <td>6699.0</td>\n",
       "      <td>115326.964771</td>\n",
       "      <td>52786.183911</td>\n",
       "      <td>350.0</td>\n",
       "      <td>70000.00</td>\n",
       "      <td>115000.0</td>\n",
       "      <td>160000.00</td>\n",
       "      <td>250000.0</td>\n",
       "    </tr>\n",
       "  </tbody>\n",
       "</table>\n",
       "</div>"
      ],
      "text/plain": [
       "                      count           mean           std    min       25%  \\\n",
       "Unnamed: 0           6704.0    3351.500000   1935.422435    0.0   1675.75   \n",
       "Age                  6702.0      33.620859      7.614633   21.0     28.00   \n",
       "Years of Experience  6701.0       8.094687      6.059003    0.0      3.00   \n",
       "Salary               6699.0  115326.964771  52786.183911  350.0  70000.00   \n",
       "\n",
       "                          50%        75%       max  \n",
       "Unnamed: 0             3351.5    5027.25    6703.0  \n",
       "Age                      32.0      38.00      62.0  \n",
       "Years of Experience       7.0      12.00      34.0  \n",
       "Salary               115000.0  160000.00  250000.0  "
      ]
     },
     "execution_count": 16,
     "metadata": {},
     "output_type": "execute_result"
    }
   ],
   "source": [
    "df.describe().T"
   ]
  },
  {
   "cell_type": "code",
   "execution_count": 17,
   "id": "aa2a8096",
   "metadata": {},
   "outputs": [
    {
     "data": {
      "text/plain": [
       "(6704, 9)"
      ]
     },
     "execution_count": 17,
     "metadata": {},
     "output_type": "execute_result"
    }
   ],
   "source": [
    "df.shape"
   ]
  },
  {
   "cell_type": "markdown",
   "id": "98c6c8ff",
   "metadata": {},
   "source": [
    "## There are 09 features and 6704 records in our dataset."
   ]
  },
  {
   "cell_type": "code",
   "execution_count": 18,
   "id": "4d55b0cd",
   "metadata": {},
   "outputs": [
    {
     "name": "stdout",
     "output_type": "stream",
     "text": [
      "<class 'pandas.core.frame.DataFrame'>\n",
      "RangeIndex: 6704 entries, 0 to 6703\n",
      "Data columns (total 9 columns):\n",
      " #   Column               Non-Null Count  Dtype  \n",
      "---  ------               --------------  -----  \n",
      " 0   Unnamed: 0           6704 non-null   int64  \n",
      " 1   Age                  6702 non-null   float64\n",
      " 2   Gender               6702 non-null   object \n",
      " 3   Education Level      6701 non-null   object \n",
      " 4   Job Title            6702 non-null   object \n",
      " 5   Years of Experience  6701 non-null   float64\n",
      " 6   Salary               6699 non-null   float64\n",
      " 7   Country              6704 non-null   object \n",
      " 8   Race                 6704 non-null   object \n",
      "dtypes: float64(3), int64(1), object(5)\n",
      "memory usage: 471.5+ KB\n"
     ]
    }
   ],
   "source": [
    "df.info()"
   ]
  },
  {
   "cell_type": "markdown",
   "id": "3d56c1f2",
   "metadata": {},
   "source": [
    "## Checking Missing Values"
   ]
  },
  {
   "cell_type": "code",
   "execution_count": 19,
   "id": "2cde20c4",
   "metadata": {
    "scrolled": false
   },
   "outputs": [
    {
     "data": {
      "text/plain": [
       "Unnamed: 0             0\n",
       "Age                    2\n",
       "Gender                 2\n",
       "Education Level        3\n",
       "Job Title              2\n",
       "Years of Experience    3\n",
       "Salary                 5\n",
       "Country                0\n",
       "Race                   0\n",
       "dtype: int64"
      ]
     },
     "execution_count": 19,
     "metadata": {},
     "output_type": "execute_result"
    }
   ],
   "source": [
    "df.isna().sum()"
   ]
  },
  {
   "cell_type": "markdown",
   "id": "d5010852",
   "metadata": {},
   "source": [
    "As we have few null values as compared to the total reocrd.So, we can drop the null values."
   ]
  },
  {
   "cell_type": "markdown",
   "id": "d232bbf7",
   "metadata": {},
   "source": [
    "## Fill Missing Values"
   ]
  },
  {
   "cell_type": "code",
   "execution_count": 20,
   "id": "52d0bb03",
   "metadata": {},
   "outputs": [],
   "source": [
    "df=df.dropna()"
   ]
  },
  {
   "cell_type": "code",
   "execution_count": 21,
   "id": "00f98ee9",
   "metadata": {},
   "outputs": [
    {
     "data": {
      "text/plain": [
       "Unnamed: 0             0\n",
       "Age                    0\n",
       "Gender                 0\n",
       "Education Level        0\n",
       "Job Title              0\n",
       "Years of Experience    0\n",
       "Salary                 0\n",
       "Country                0\n",
       "Race                   0\n",
       "dtype: int64"
      ]
     },
     "execution_count": 21,
     "metadata": {},
     "output_type": "execute_result"
    }
   ],
   "source": [
    "df.isnull().sum()"
   ]
  },
  {
   "cell_type": "markdown",
   "id": "80932807",
   "metadata": {},
   "source": [
    "Making sure that there will be no null values now in our DS."
   ]
  },
  {
   "cell_type": "code",
   "execution_count": 22,
   "id": "54d76073",
   "metadata": {
    "scrolled": true
   },
   "outputs": [
    {
     "name": "stdout",
     "output_type": "stream",
     "text": [
      "<class 'pandas.core.frame.DataFrame'>\n",
      "Int64Index: 6698 entries, 0 to 6703\n",
      "Data columns (total 9 columns):\n",
      " #   Column               Non-Null Count  Dtype  \n",
      "---  ------               --------------  -----  \n",
      " 0   Unnamed: 0           6698 non-null   int64  \n",
      " 1   Age                  6698 non-null   float64\n",
      " 2   Gender               6698 non-null   object \n",
      " 3   Education Level      6698 non-null   object \n",
      " 4   Job Title            6698 non-null   object \n",
      " 5   Years of Experience  6698 non-null   float64\n",
      " 6   Salary               6698 non-null   float64\n",
      " 7   Country              6698 non-null   object \n",
      " 8   Race                 6698 non-null   object \n",
      "dtypes: float64(3), int64(1), object(5)\n",
      "memory usage: 523.3+ KB\n"
     ]
    }
   ],
   "source": [
    "df.info()"
   ]
  },
  {
   "cell_type": "markdown",
   "id": "33baca02",
   "metadata": {},
   "source": [
    "Exporting the CSV file after cleaning."
   ]
  },
  {
   "cell_type": "code",
   "execution_count": 23,
   "id": "572d443a",
   "metadata": {},
   "outputs": [],
   "source": [
    "df.to_csv('Clean.csv')"
   ]
  }
 ],
 "metadata": {
  "kernelspec": {
   "display_name": "Python 3 (ipykernel)",
   "language": "python",
   "name": "python3"
  },
  "language_info": {
   "codemirror_mode": {
    "name": "ipython",
    "version": 3
   },
   "file_extension": ".py",
   "mimetype": "text/x-python",
   "name": "python",
   "nbconvert_exporter": "python",
   "pygments_lexer": "ipython3",
   "version": "3.10.9"
  }
 },
 "nbformat": 4,
 "nbformat_minor": 5
}
